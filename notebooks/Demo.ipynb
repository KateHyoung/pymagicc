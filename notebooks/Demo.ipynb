{
 "cells": [
  {
   "cell_type": "markdown",
   "metadata": {},
   "source": [
    "# Pymagicc demo\n",
    "\n",
    "See https://github.com/openclimatedata/pymagicc"
   ]
  },
  {
   "cell_type": "code",
   "execution_count": 1,
   "metadata": {},
   "outputs": [],
   "source": [
    "%matplotlib inline\n",
    "import matplotlib.pyplot as plt\n",
    "import pymagicc\n",
    "\n",
    "from ipywidgets import widgets\n",
    "from IPython.display import Javascript\n",
    "\n",
    "from functools import lru_cache\n",
    "\n",
    "plt.style.use(\"ggplot\")"
   ]
  },
  {
   "cell_type": "code",
   "execution_count": 2,
   "metadata": {},
   "outputs": [],
   "source": [
    "@lru_cache(maxsize=32)\n",
    "def run_pymagicc(scenario, core_climatesensitivity=3):\n",
    "    return pymagicc.run(pymagicc.scenarios[scenario], core_climatesensitivity=core_climatesensitivity)"
   ]
  },
  {
   "cell_type": "code",
   "execution_count": 3,
   "metadata": {
    "scrolled": false
   },
   "outputs": [
    {
     "data": {
      "application/vnd.jupyter.widget-view+json": {
       "model_id": "af2f256c94e84b4da80dd1ba92c335c6",
       "version_major": 2,
       "version_minor": 0
      },
      "text/html": [
       "<p>Failed to display Jupyter Widget of type <code>VBox</code>.</p>\n",
       "<p>\n",
       "  If you're reading this message in the Jupyter Notebook or JupyterLab Notebook, it may mean\n",
       "  that the widgets JavaScript is still loading. If this message persists, it\n",
       "  likely means that the widgets JavaScript library is either not installed or\n",
       "  not enabled. See the <a href=\"https://ipywidgets.readthedocs.io/en/stable/user_install.html\">Jupyter\n",
       "  Widgets Documentation</a> for setup instructions.\n",
       "</p>\n",
       "<p>\n",
       "  If you're reading this message in another frontend (for example, a static\n",
       "  rendering on GitHub or <a href=\"https://nbviewer.jupyter.org/\">NBViewer</a>),\n",
       "  it may mean that your frontend doesn't currently support widgets.\n",
       "</p>\n"
      ],
      "text/plain": [
       "VBox(children=(Dropdown(options=('RCP3PD', 'RCP45', 'RCP6', 'RCP85'), value='RCP3PD'), HBox(children=(Dropdown(options=('FossilCO2', 'OtherCO2', 'CH4', 'N2O', 'SOx', 'CO', 'NMVOC', 'NOx', 'BC', 'OC', 'NH3', 'CF4', 'C2F6', 'C6F14', 'HFC23', 'HFC32', 'HFC43-10', 'HFC125', 'HFC134a', 'HFC143a', 'HFC227ea', 'HFC245fa', 'SF6'), value='FossilCO2'), Dropdown(index=1, options=('FossilCO2', 'OtherCO2', 'CH4', 'N2O', 'SOx', 'CO', 'NMVOC', 'NOx', 'BC', 'OC', 'NH3', 'CF4', 'C2F6', 'C6F14', 'HFC23', 'HFC32', 'HFC43-10', 'HFC125', 'HFC134a', 'HFC143a', 'HFC227ea', 'HFC245fa', 'SF6'), value='OtherCO2'), Dropdown(index=2, options=('FossilCO2', 'OtherCO2', 'CH4', 'N2O', 'SOx', 'CO', 'NMVOC', 'NOx', 'BC', 'OC', 'NH3', 'CF4', 'C2F6', 'C6F14', 'HFC23', 'HFC32', 'HFC43-10', 'HFC125', 'HFC134a', 'HFC143a', 'HFC227ea', 'HFC245fa', 'SF6'), value='CH4'), Dropdown(index=3, options=('FossilCO2', 'OtherCO2', 'CH4', 'N2O', 'SOx', 'CO', 'NMVOC', 'NOx', 'BC', 'OC', 'NH3', 'CF4', 'C2F6', 'C6F14', 'HFC23', 'HFC32', 'HFC43-10', 'HFC125', 'HFC134a', 'HFC143a', 'HFC227ea', 'HFC245fa', 'SF6'), value='N2O'))), FloatSlider(value=3.0, continuous_update=False, description='Climate Sensitivity', max=4.5, min=1.5, style=SliderStyle(description_width='initial')), Output()))"
      ]
     },
     "metadata": {},
     "output_type": "display_data"
    },
    {
     "data": {
      "application/vnd.jupyter.widget-view+json": {
       "model_id": "523e831005ce41b79e5f692c47728696",
       "version_major": 2,
       "version_minor": 0
      },
      "text/html": [
       "<p>Failed to display Jupyter Widget of type <code>Output</code>.</p>\n",
       "<p>\n",
       "  If you're reading this message in the Jupyter Notebook or JupyterLab Notebook, it may mean\n",
       "  that the widgets JavaScript is still loading. If this message persists, it\n",
       "  likely means that the widgets JavaScript library is either not installed or\n",
       "  not enabled. See the <a href=\"https://ipywidgets.readthedocs.io/en/stable/user_install.html\">Jupyter\n",
       "  Widgets Documentation</a> for setup instructions.\n",
       "</p>\n",
       "<p>\n",
       "  If you're reading this message in another frontend (for example, a static\n",
       "  rendering on GitHub or <a href=\"https://nbviewer.jupyter.org/\">NBViewer</a>),\n",
       "  it may mean that your frontend doesn't currently support widgets.\n",
       "</p>\n"
      ],
      "text/plain": [
       "Output()"
      ]
     },
     "metadata": {},
     "output_type": "display_data"
    }
   ],
   "source": [
    "# Reference period\n",
    "start = 1850\n",
    "end = 1900\n",
    "\n",
    "widget_scenario = widgets.Dropdown(\n",
    "    title=\"Emissions Scenario\", \n",
    "    value=\"RCP3PD\",\n",
    "    options=[\"RCP3PD\", \"RCP45\", \"RCP6\", \"RCP85\"]\n",
    ")\n",
    "\n",
    "gases = pymagicc.rcp3pd[\"WORLD\"].columns.values\n",
    "\n",
    "widget_gas_1 = widgets.Dropdown(\n",
    "    title=\"Emissions from\", \n",
    "    value=\"FossilCO2\",\n",
    "    options=gases\n",
    ")\n",
    "widget_gas_2 = widgets.Dropdown(\n",
    "    title=\"Emissions from\", \n",
    "    value=\"OtherCO2\",\n",
    "    options=gases\n",
    ")\n",
    "widget_gas_3 = widgets.Dropdown(\n",
    "    title=\"Emissions from\", \n",
    "    value=\"CH4\",\n",
    "    options=gases\n",
    ")\n",
    "widget_gas_4 = widgets.Dropdown(\n",
    "    title=\"Emissions from\", \n",
    "    value=\"N2O\",\n",
    "    options=gases\n",
    ")\n",
    "\n",
    "style = {'description_width': 'initial'}\n",
    "widget_core_climatesensitivity = widgets.FloatSlider(\n",
    "    value=3, min=1.5, max=4.5, step=0.1, continuous_update=False,\n",
    "    description=\"Climate Sensitivity\",\n",
    "    style=style\n",
    ")\n",
    "\n",
    "scen = pymagicc.scenarios[\"RCP3PD\"]\n",
    "data = scen[\"WORLD\"][\"FossilCO2\"].loc[:2100]\n",
    "\n",
    "widget_output = widgets.Output()\n",
    "\n",
    "ui = widgets.VBox([\n",
    "    widget_scenario, \n",
    "    widgets.HBox([widget_gas_1, widget_gas_2, widget_gas_3, widget_gas_4]),\n",
    "    widget_core_climatesensitivity,\n",
    "    widget_output])\n",
    "\n",
    "def update(scenario, gas_1, gas_2, gas_3, gas_4, core_climatesensitivity):\n",
    "    scen = pymagicc.scenarios[scenario]\n",
    "    data = scen[\"WORLD\"].loc[:2100]\n",
    "    data.index.name = \"\"\n",
    "    results = run_pymagicc(scenario, core_climatesensitivity=core_climatesensitivity)\n",
    "    \n",
    "    fig, axes = plt.subplots(2, 4, figsize=(16,10))\n",
    "    data[gas_1].plot(ax=axes[0, 0])\n",
    "    axes[0, 0].set_title(gas_1 + \" [\" + pymagicc.units[gas_1] + \"]\")\n",
    "    data[gas_2].plot(ax=axes[0, 1])\n",
    "    axes[0, 1].set_title(gas_2  + \" [\" + pymagicc.units[gas_2] + \"]\")\n",
    "    data[gas_3].plot(ax=axes[0, 2])\n",
    "    axes[0, 2].set_title(gas_3 + \" [\" + pymagicc.units[gas_3] + \"]\")\n",
    "    data[gas_4].plot(ax=axes[0, 3])\n",
    "    axes[0, 3].set_title(gas_4 + \" [\" + pymagicc.units[gas_4] + \"]\")\n",
    "    \n",
    "    for key in results.keys():\n",
    "        results[key].index.name = \"\"\n",
    "    temp = results[\"SURFACE_TEMP\"].GLOBAL\n",
    "    temp = temp - temp.loc[start:end].mean()\n",
    "    temp.plot(ax=axes[1, 0])\n",
    "    axes[1, 0].set_title(\"Surface Temperature [°C]\")\n",
    "    \n",
    "    results[\"CO2_CONC\"].GLOBAL.plot(ax=axes[1, 1])\n",
    "    axes[1, 1].set_title(\"CO$_2$ Concentration [ppm]\")\n",
    "    \n",
    "    results[\"GHG_RF\"].GLOBAL.plot(ax=axes[1, 2])\n",
    "    axes[1, 2].set_title(\"Radiative Forcing [W/m$^2$]\")\n",
    "    \n",
    "    axes[1, 3].remove()\n",
    "\n",
    "out = widgets.interactive_output(\n",
    "    update, \n",
    "    {\n",
    "        \"scenario\": widget_scenario, \n",
    "        \"gas_1\": widget_gas_1,\n",
    "        \"gas_2\": widget_gas_2,\n",
    "        \"gas_3\": widget_gas_3,\n",
    "        \"gas_4\": widget_gas_4,\n",
    "        \"core_climatesensitivity\": widget_core_climatesensitivity\n",
    "    }\n",
    ")\n",
    "    \n",
    "display(ui, out)"
   ]
  },
  {
   "cell_type": "markdown",
   "metadata": {},
   "source": [
    "Surface temperature is relative to the pre-industrial 1850-1900 period."
   ]
  },
  {
   "cell_type": "code",
   "execution_count": null,
   "metadata": {},
   "outputs": [],
   "source": []
  }
 ],
 "metadata": {
  "kernelspec": {
   "display_name": "Python 3",
   "language": "python",
   "name": "python3"
  },
  "language_info": {
   "codemirror_mode": {
    "name": "ipython",
    "version": 3
   },
   "file_extension": ".py",
   "mimetype": "text/x-python",
   "name": "python",
   "nbconvert_exporter": "python",
   "pygments_lexer": "ipython3",
   "version": "3.5.3"
  }
 },
 "nbformat": 4,
 "nbformat_minor": 2
}
