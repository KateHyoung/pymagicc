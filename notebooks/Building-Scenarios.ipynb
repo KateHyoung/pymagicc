{
 "cells": [
  {
   "cell_type": "code",
   "execution_count": 28,
   "metadata": {},
   "outputs": [],
   "source": [
    "from pprint import pprint\n",
    "\n",
    "from os.path import join\n",
    "\n",
    "from pymagicc.io import MAGICCData\n",
    "\n",
    "%matplotlib inline"
   ]
  },
  {
   "cell_type": "code",
   "execution_count": 29,
   "metadata": {},
   "outputs": [],
   "source": [
    "DATA_DIR = join(\"..\", \"tests\", \"test_data\")"
   ]
  },
  {
   "cell_type": "code",
   "execution_count": 30,
   "metadata": {},
   "outputs": [],
   "source": [
    "rcp = MAGICCData()\n",
    "rcp.read(join(DATA_DIR, \"RCP3PD_EMISSIONS.DAT\"))"
   ]
  },
  {
   "cell_type": "code",
   "execution_count": 31,
   "metadata": {},
   "outputs": [
    {
     "data": {
      "text/html": [
       "<div>\n",
       "<style scoped>\n",
       "    .dataframe tbody tr th:only-of-type {\n",
       "        vertical-align: middle;\n",
       "    }\n",
       "\n",
       "    .dataframe tbody tr th {\n",
       "        vertical-align: top;\n",
       "    }\n",
       "\n",
       "    .dataframe thead th {\n",
       "        text-align: right;\n",
       "    }\n",
       "</style>\n",
       "<table border=\"1\" class=\"dataframe\">\n",
       "  <thead>\n",
       "    <tr style=\"text-align: right;\">\n",
       "      <th></th>\n",
       "      <th>variable</th>\n",
       "      <th>todo</th>\n",
       "      <th>unit</th>\n",
       "      <th>region</th>\n",
       "      <th>time</th>\n",
       "      <th>value</th>\n",
       "    </tr>\n",
       "  </thead>\n",
       "  <tbody>\n",
       "    <tr>\n",
       "      <th>0</th>\n",
       "      <td>Emissions|CO2|MAGICC Fossil and Industrial</td>\n",
       "      <td>N/A</td>\n",
       "      <td>Gt C / yr</td>\n",
       "      <td>World</td>\n",
       "      <td>1765</td>\n",
       "      <td>0.003</td>\n",
       "    </tr>\n",
       "    <tr>\n",
       "      <th>1</th>\n",
       "      <td>Emissions|CO2|MAGICC Fossil and Industrial</td>\n",
       "      <td>N/A</td>\n",
       "      <td>Gt C / yr</td>\n",
       "      <td>World</td>\n",
       "      <td>1766</td>\n",
       "      <td>0.003</td>\n",
       "    </tr>\n",
       "    <tr>\n",
       "      <th>2</th>\n",
       "      <td>Emissions|CO2|MAGICC Fossil and Industrial</td>\n",
       "      <td>N/A</td>\n",
       "      <td>Gt C / yr</td>\n",
       "      <td>World</td>\n",
       "      <td>1767</td>\n",
       "      <td>0.003</td>\n",
       "    </tr>\n",
       "    <tr>\n",
       "      <th>3</th>\n",
       "      <td>Emissions|CO2|MAGICC Fossil and Industrial</td>\n",
       "      <td>N/A</td>\n",
       "      <td>Gt C / yr</td>\n",
       "      <td>World</td>\n",
       "      <td>1768</td>\n",
       "      <td>0.003</td>\n",
       "    </tr>\n",
       "    <tr>\n",
       "      <th>4</th>\n",
       "      <td>Emissions|CO2|MAGICC Fossil and Industrial</td>\n",
       "      <td>N/A</td>\n",
       "      <td>Gt C / yr</td>\n",
       "      <td>World</td>\n",
       "      <td>1769</td>\n",
       "      <td>0.003</td>\n",
       "    </tr>\n",
       "  </tbody>\n",
       "</table>\n",
       "</div>"
      ],
      "text/plain": [
       "                                     variable todo       unit region  time  \\\n",
       "0  Emissions|CO2|MAGICC Fossil and Industrial  N/A  Gt C / yr  World  1765   \n",
       "1  Emissions|CO2|MAGICC Fossil and Industrial  N/A  Gt C / yr  World  1766   \n",
       "2  Emissions|CO2|MAGICC Fossil and Industrial  N/A  Gt C / yr  World  1767   \n",
       "3  Emissions|CO2|MAGICC Fossil and Industrial  N/A  Gt C / yr  World  1768   \n",
       "4  Emissions|CO2|MAGICC Fossil and Industrial  N/A  Gt C / yr  World  1769   \n",
       "\n",
       "   value  \n",
       "0  0.003  \n",
       "1  0.003  \n",
       "2  0.003  \n",
       "3  0.003  \n",
       "4  0.003  "
      ]
     },
     "execution_count": 31,
     "metadata": {},
     "output_type": "execute_result"
    }
   ],
   "source": [
    "rcp.df.head()"
   ]
  },
  {
   "cell_type": "code",
   "execution_count": 32,
   "metadata": {},
   "outputs": [
    {
     "name": "stdout",
     "output_type": "stream",
     "text": [
      "['Emissions|CO2|MAGICC Fossil and Industrial',\n",
      " 'Emissions|CO2|MAGICC AFOLU',\n",
      " 'Emissions|CH4',\n",
      " 'Emissions|N2O',\n",
      " 'Emissions|SOx',\n",
      " 'Emissions|CO',\n",
      " 'Emissions|NMVOC',\n",
      " 'Emissions|NOx',\n",
      " 'Emissions|BC',\n",
      " 'Emissions|OC',\n",
      " 'Emissions|NH3',\n",
      " 'Emissions|CF4',\n",
      " 'Emissions|C2F6',\n",
      " 'Emissions|C6F14',\n",
      " 'Emissions|HFC23',\n",
      " 'Emissions|HFC32',\n",
      " 'Emissions|HFC4310',\n",
      " 'Emissions|HFC125',\n",
      " 'Emissions|HFC134a',\n",
      " 'Emissions|HFC143a',\n",
      " 'Emissions|HFC227ea',\n",
      " 'Emissions|HFC245fa',\n",
      " 'Emissions|SF6',\n",
      " 'Emissions|CFC11',\n",
      " 'Emissions|CFC12',\n",
      " 'Emissions|CFC113',\n",
      " 'Emissions|CFC114',\n",
      " 'Emissions|CFC115',\n",
      " 'Emissions|CCl4',\n",
      " 'Emissions|CH3CCl3',\n",
      " 'Emissions|HCFC22',\n",
      " 'Emissions|HCFC141b',\n",
      " 'Emissions|HCFC142b',\n",
      " 'Emissions|Halon1211',\n",
      " 'Emissions|Halon1202',\n",
      " 'Emissions|Halon1301',\n",
      " 'Emissions|Halon2402',\n",
      " 'Emissions|CH3Br',\n",
      " 'Emissions|CH3Cl']\n"
     ]
    }
   ],
   "source": [
    "pprint(list(rcp.df[\"variable\"].unique()))"
   ]
  },
  {
   "cell_type": "code",
   "execution_count": 35,
   "metadata": {},
   "outputs": [
    {
     "data": {
      "image/png": "[encoded data removed]",
      "text/plain": [
       "<Figure size 432x288 with 1 Axes>"
      ]
     },
     "metadata": {
      "needs_background": "light"
     },
     "output_type": "display_data"
    }
   ],
   "source": [
    "rcp.df[\n",
    "    rcp.df[\"variable\"] == \"Emissions|CH3Cl\"\n",
    "].plot(x=\"time\", y=\"value\");"
   ]
  },
  {
   "cell_type": "code",
   "execution_count": null,
   "metadata": {},
   "outputs": [],
   "source": []
  }
 ],
 "metadata": {
  "kernelspec": {
   "display_name": "Python 3",
   "language": "python",
   "name": "python3"
  },
  "language_info": {
   "codemirror_mode": {
    "name": "ipython",
    "version": 3
   },
   "file_extension": ".py",
   "mimetype": "text/x-python",
   "name": "python",
   "nbconvert_exporter": "python",
   "pygments_lexer": "ipython3",
   "version": "3.6.5"
  }
 },
 "nbformat": 4,
 "nbformat_minor": 2
}
