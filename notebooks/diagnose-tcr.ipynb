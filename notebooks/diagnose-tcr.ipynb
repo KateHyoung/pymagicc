{
 "cells": [
  {
   "cell_type": "markdown",
   "metadata": {},
   "source": [
    "# Attempting to diagnose TCR"
   ]
  },
  {
   "cell_type": "code",
   "execution_count": 1,
   "metadata": {},
   "outputs": [],
   "source": [
    "%matplotlib inline\n",
    "from matplotlib import pyplot as plt\n",
    "plt.style.use('ggplot')\n",
    "plt.rcParams['figure.figsize'] = 16, 9"
   ]
  },
  {
   "cell_type": "code",
   "execution_count": 2,
   "metadata": {},
   "outputs": [],
   "source": [
    "from os.path import join, expanduser\n",
    "from glob import glob\n",
    "\n",
    "import numpy as np\n",
    "import pymagicc\n",
    "from pymagicc import rcp26, write_scen_file, _get_date_time_string\n",
    "from pymagicc.input import MAGICCInput\n",
    "from pymagicc.api import MAGICC6"
   ]
  },
  {
   "cell_type": "code",
   "execution_count": 3,
   "metadata": {},
   "outputs": [],
   "source": [
    "MAGICC6_DIR = expanduser(join('~', 'Desktop', 'MAGICC6', ))\n",
    "MAGICC6_RUN_DIR = join(MAGICC6_DIR, 'run', )"
   ]
  },
  {
   "cell_type": "code",
   "execution_count": 4,
   "metadata": {},
   "outputs": [],
   "source": [
    "mi = MAGICCInput()\n",
    "mi.read(filepath=MAGICC6_RUN_DIR, filename='HISTRCP_CO2_CONC.IN')"
   ]
  },
  {
   "cell_type": "code",
   "execution_count": 44,
   "metadata": {},
   "outputs": [
    {
     "data": {
      "text/plain": [
       "VARIABLE  TODO  REGION  UNITS  YEAR\n",
       "CO2_CONC  SET   GLOBAL  ppm    1600    276.333846\n",
       "                               1601    276.333846\n",
       "                               1602    276.333846\n",
       "                               1603    276.333846\n",
       "                               1604    276.333846\n",
       "dtype: float64"
      ]
     },
     "execution_count": 44,
     "metadata": {},
     "output_type": "execute_result"
    }
   ],
   "source": [
    "mi.metadata['header'] = '\\n'.join([\n",
    "    'TCR Diagnosis input file',\n",
    "    'Written by: diagnose-tcr notebook in pymagicc package'\n",
    "]) + '\\n\\n'\n",
    "mi.df = mi.df.loc[mi.df.index.values[0][:-1] + (slice(1600, 2008),)]\n",
    "mi.df.head()"
   ]
  },
  {
   "cell_type": "code",
   "execution_count": 45,
   "metadata": {},
   "outputs": [
    {
     "data": {
      "text/plain": [
       "VARIABLE  TODO  REGION  UNITS  YEAR\n",
       "CO2_CONC  SET   GLOBAL  ppm    1600    276.333846\n",
       "                               1601    276.333846\n",
       "                               1602    276.333846\n",
       "                               1603    276.333846\n",
       "                               1604    276.333846\n",
       "dtype: float64"
      ]
     },
     "execution_count": 45,
     "metadata": {},
     "output_type": "execute_result"
    },
    {
     "data": {
      "image/png": "[encoded data removed]",
      "text/plain": [
       "<Figure size 432x288 with 1 Axes>"
      ]
     },
     "metadata": {},
     "output_type": "display_data"
    }
   ],
   "source": [
    "# working with this df is unreasonably difficult at the moment, something to fix...\n",
    "PI_CO2 = mi.df.loc[mi.df.index.values[0]]\n",
    "mi.df.loc[mi.df.index.values[0][:-1] + (slice(1010, 1800),)] = PI_CO2\n",
    "mi.df.loc[mi.df.index.values[0][:-1] + (slice(1800, 1870),)] = PI_CO2 * 1.01**np.arange(0,71)\n",
    "mi.df.loc[mi.df.index.values[0][:-1] + (slice(1870, 2008),)] = PI_CO2 * 2.\n",
    "# this takes like 15 seconds but I can't work out a smart way to do it...\n",
    "for i in range(2008, 5001):\n",
    "    mi.df.loc[mi.df.index.values[0][:-1] + (i,)] = PI_CO2 * 2.\n",
    "ax = mi.df.loc[mi.df.index.values[0][:-1]].plot()\n",
    "mi.df.head()"
   ]
  },
  {
   "cell_type": "code",
   "execution_count": 46,
   "metadata": {},
   "outputs": [
    {
     "data": {
      "image/png": "[encoded data removed]",
      "text/plain": [
       "<Figure size 432x288 with 1 Axes>"
      ]
     },
     "metadata": {},
     "output_type": "display_data"
    }
   ],
   "source": [
    "ax = mi.df.loc[mi.df.index.values[0][:-1]].plot()\n",
    "ax.set_xlim([1600,2000]);"
   ]
  },
  {
   "cell_type": "code",
   "execution_count": 8,
   "metadata": {},
   "outputs": [],
   "source": [
    "tcr_prefix = 'HISTTCR'\n",
    "co2_tcr_conc_file = tcr_prefix + '_CO2_CONC.IN'\n",
    "\n",
    "tcr_config = {}\n",
    "tcr_config[\"FILE_CO2_CONC\"] = co2_tcr_conc_file\n",
    "mi.write(join(MAGICC6_RUN_DIR , tcr_config[\"FILE_CO2_CONC\"]))"
   ]
  },
  {
   "cell_type": "code",
   "execution_count": 69,
   "metadata": {},
   "outputs": [],
   "source": [
    "with MAGICC6(root_dir=MAGICC6_DIR) as magicc:\n",
    "    write_scen_file(rcp26, join(magicc.run_dir, \"SCENARIO.SCEN\"))\n",
    "    \n",
    "    magicc.set_years(startyear=1750, endyear=4200) # 4200 seems to be the max I can push too without an error\n",
    "    \n",
    "    tcr_config.setdefault(\"rundate\", _get_date_time_string())\n",
    "    tcr_config[\"FILE_CO2_CONC\"] = co2_tcr_conc_file\n",
    "    tcr_config[\"RF_TOTAL_RUNMODUS\"] = \"CO2\"\n",
    "    tcr_config[\"RF_TOTAL_CONSTANTAFTERYR\"] = 2000\n",
    "    magicc.set_config(**tcr_config)\n",
    "\n",
    "    results = magicc.run(only=['SURFACE_TEMP', 'CO2_CONC', 'TOTAL_INCLVOLCANIC_RF'])"
   ]
  },
  {
   "cell_type": "code",
   "execution_count": 75,
   "metadata": {},
   "outputs": [
    {
     "data": {
      "text/plain": [
       "YEARS\n",
       "1750    0.0\n",
       "1751    0.0\n",
       "1752    0.0\n",
       "1753    0.0\n",
       "1754    0.0\n",
       "Name: GLOBAL, dtype: float64"
      ]
     },
     "execution_count": 75,
     "metadata": {},
     "output_type": "execute_result"
    }
   ],
   "source": [
    "results['SURFACE_TEMP']['GLOBAL'].head()"
   ]
  },
  {
   "cell_type": "code",
   "execution_count": 74,
   "metadata": {},
   "outputs": [
    {
     "name": "stdout",
     "output_type": "stream",
     "text": [
      "TCR: 1.970709K\n",
      "ECS: 2.9823991000000003K\n"
     ]
    },
    {
     "data": {
      "image/png": "[encoded data removed]",
      "text/plain": [
       "<Figure size 432x288 with 1 Axes>"
      ]
     },
     "metadata": {},
     "output_type": "display_data"
    },
    {
     "data": {
      "image/png": "[encoded data removed]",
      "text/plain": [
       "<Figure size 432x288 with 1 Axes>"
      ]
     },
     "metadata": {},
     "output_type": "display_data"
    },
    {
     "data": {
      "image/png": "[encoded data removed]",
      "text/plain": [
       "<Figure size 432x288 with 1 Axes>"
      ]
     },
     "metadata": {},
     "output_type": "display_data"
    }
   ],
   "source": [
    "print(\"TCR: {}K\".format(results['SURFACE_TEMP']['GLOBAL'].loc[1870]))\n",
    "print(\"ECS: {}K\".format(results['SURFACE_TEMP']['GLOBAL'].loc[4199]))\n",
    "results['CO2_CONC'].plot()\n",
    "results['TOTAL_INCLVOLCANIC_RF'].plot()\n",
    "results['SURFACE_TEMP'].plot();"
   ]
  },
  {
   "cell_type": "code",
   "execution_count": 93,
   "metadata": {},
   "outputs": [
    {
     "data": {
      "text/plain": [
       "3.1"
      ]
     },
     "execution_count": 93,
     "metadata": {},
     "output_type": "execute_result"
    }
   ],
   "source": [
    "import pandas as pd\n",
    "mock_tcr_val = 1.8\n",
    "mock_tcr_yr = 1825\n",
    "mock_ecs_val = 3.1\n",
    "mock_ecs_yr = 2200\n",
    "\n",
    "mock_res = {}\n",
    "mock_res = {}\n",
    "mock_res['SURFACE_TEMP'] = pd.DataFrame(\n",
    "    {'GLOBAL': np.zeros(len(fake_time))},\n",
    "    index=fake_time,\n",
    ")\n",
    "mock_res['SURFACE_TEMP']['GLOBAL'].loc[mock_tcr_yr] = mock_tcr_val\n",
    "mock_res['SURFACE_TEMP']['GLOBAL'].loc[mock_ecs_yr] = mock_ecs_val\n",
    "mock_res['SURFACE_TEMP']['GLOBAL'].loc[mock_ecs_yr]"
   ]
  },
  {
   "cell_type": "code",
   "execution_count": 90,
   "metadata": {},
   "outputs": [
    {
     "data": {
      "text/plain": [
       "{'CO2_CONC':           GLOBAL   NH-OCEAN    NH-LAND   SH-OCEAN    SH-LAND\n",
       " YEARS                                                       \n",
       " 1750   276.33385  276.33385  276.33385  276.33385  276.33385\n",
       " 1751   276.33385  276.33385  276.33385  276.33385  276.33385\n",
       " 1752   276.33385  276.33385  276.33385  276.33385  276.33385\n",
       " 1753   276.33385  276.33385  276.33385  276.33385  276.33385\n",
       " 1754   276.33385  276.33385  276.33385  276.33385  276.33385\n",
       " 1755   276.33385  276.33385  276.33385  276.33385  276.33385\n",
       " 1756   276.33385  276.33385  276.33385  276.33385  276.33385\n",
       " 1757   276.33385  276.33385  276.33385  276.33385  276.33385\n",
       " 1758   276.33385  276.33385  276.33385  276.33385  276.33385\n",
       " 1759   276.33385  276.33385  276.33385  276.33385  276.33385\n",
       " 1760   276.33385  276.33385  276.33385  276.33385  276.33385\n",
       " 1761   276.33385  276.33385  276.33385  276.33385  276.33385\n",
       " 1762   276.33385  276.33385  276.33385  276.33385  276.33385\n",
       " 1763   276.33385  276.33385  276.33385  276.33385  276.33385\n",
       " 1764   276.33385  276.33385  276.33385  276.33385  276.33385\n",
       " 1765   276.33385  276.33385  276.33385  276.33385  276.33385\n",
       " 1766   276.33385  276.33385  276.33385  276.33385  276.33385\n",
       " 1767   276.33385  276.33385  276.33385  276.33385  276.33385\n",
       " 1768   276.33385  276.33385  276.33385  276.33385  276.33385\n",
       " 1769   276.33385  276.33385  276.33385  276.33385  276.33385\n",
       " 1770   276.33385  276.33385  276.33385  276.33385  276.33385\n",
       " 1771   276.33385  276.33385  276.33385  276.33385  276.33385\n",
       " 1772   276.33385  276.33385  276.33385  276.33385  276.33385\n",
       " 1773   276.33385  276.33385  276.33385  276.33385  276.33385\n",
       " 1774   276.33385  276.33385  276.33385  276.33385  276.33385\n",
       " 1775   276.33385  276.33385  276.33385  276.33385  276.33385\n",
       " 1776   276.33385  276.33385  276.33385  276.33385  276.33385\n",
       " 1777   276.33385  276.33385  276.33385  276.33385  276.33385\n",
       " 1778   276.33385  276.33385  276.33385  276.33385  276.33385\n",
       " 1779   276.33385  276.33385  276.33385  276.33385  276.33385\n",
       " ...          ...        ...        ...        ...        ...\n",
       " 4171   552.66769  552.66769  552.66769  552.66769  552.66769\n",
       " 4172   552.66769  552.66769  552.66769  552.66769  552.66769\n",
       " 4173   552.66769  552.66769  552.66769  552.66769  552.66769\n",
       " 4174   552.66769  552.66769  552.66769  552.66769  552.66769\n",
       " 4175   552.66769  552.66769  552.66769  552.66769  552.66769\n",
       " 4176   552.66769  552.66769  552.66769  552.66769  552.66769\n",
       " 4177   552.66769  552.66769  552.66769  552.66769  552.66769\n",
       " 4178   552.66769  552.66769  552.66769  552.66769  552.66769\n",
       " 4179   552.66769  552.66769  552.66769  552.66769  552.66769\n",
       " 4180   552.66769  552.66769  552.66769  552.66769  552.66769\n",
       " 4181   552.66769  552.66769  552.66769  552.66769  552.66769\n",
       " 4182   552.66769  552.66769  552.66769  552.66769  552.66769\n",
       " 4183   552.66769  552.66769  552.66769  552.66769  552.66769\n",
       " 4184   552.66769  552.66769  552.66769  552.66769  552.66769\n",
       " 4185   552.66769  552.66769  552.66769  552.66769  552.66769\n",
       " 4186   552.66769  552.66769  552.66769  552.66769  552.66769\n",
       " 4187   552.66769  552.66769  552.66769  552.66769  552.66769\n",
       " 4188   552.66769  552.66769  552.66769  552.66769  552.66769\n",
       " 4189   552.66769  552.66769  552.66769  552.66769  552.66769\n",
       " 4190   552.66769  552.66769  552.66769  552.66769  552.66769\n",
       " 4191   552.66769  552.66769  552.66769  552.66769  552.66769\n",
       " 4192   552.66769  552.66769  552.66769  552.66769  552.66769\n",
       " 4193   552.66769  552.66769  552.66769  552.66769  552.66769\n",
       " 4194   552.66769  552.66769  552.66769  552.66769  552.66769\n",
       " 4195   552.66769  552.66769  552.66769  552.66769  552.66769\n",
       " 4196   552.66769  552.66769  552.66769  552.66769  552.66769\n",
       " 4197   552.66769  552.66769  552.66769  552.66769  552.66769\n",
       " 4198   552.66769  552.66769  552.66769  552.66769  552.66769\n",
       " 4199   552.66769  552.66769  552.66769  552.66769  552.66769\n",
       " 4200   552.66769  552.66769  552.66769  552.66769  552.66769\n",
       " \n",
       " [2451 rows x 5 columns],\n",
       " 'SURFACE_TEMP':          GLOBAL  NH-OCEAN   NH-LAND  SH-OCEAN   SH-LAND\n",
       " YEARS                                                  \n",
       " 1750   0.000000  0.000000  0.000000  0.000000  0.000000\n",
       " 1751   0.000000  0.000000  0.000000  0.000000  0.000000\n",
       " 1752   0.000000  0.000000  0.000000  0.000000  0.000000\n",
       " 1753   0.000000  0.000000  0.000000  0.000000  0.000000\n",
       " 1754   0.000000  0.000000  0.000000  0.000000  0.000000\n",
       " 1755   0.000000  0.000000  0.000000  0.000000  0.000000\n",
       " 1756   0.000000  0.000000  0.000000  0.000000  0.000000\n",
       " 1757   0.000000  0.000000  0.000000  0.000000  0.000000\n",
       " 1758   0.000000  0.000000  0.000000  0.000000  0.000000\n",
       " 1759   0.000000  0.000000  0.000000  0.000000  0.000000\n",
       " 1760   0.000000  0.000000  0.000000  0.000000  0.000000\n",
       " 1761   0.000000  0.000000  0.000000  0.000000  0.000000\n",
       " 1762   0.000000  0.000000  0.000000  0.000000  0.000000\n",
       " 1763   0.000000  0.000000  0.000000  0.000000  0.000000\n",
       " 1764   0.000000  0.000000  0.000000  0.000000  0.000000\n",
       " 1765   0.000000  0.000000  0.000000  0.000000  0.000000\n",
       " 1766   0.000000  0.000000  0.000000  0.000000  0.000000\n",
       " 1767   0.000000  0.000000  0.000000  0.000000  0.000000\n",
       " 1768   0.000000  0.000000  0.000000  0.000000  0.000000\n",
       " 1769   0.000000  0.000000  0.000000  0.000000  0.000000\n",
       " 1770   0.000000  0.000000  0.000000  0.000000  0.000000\n",
       " 1771   0.000000  0.000000  0.000000  0.000000  0.000000\n",
       " 1772   0.000000  0.000000  0.000000  0.000000  0.000000\n",
       " 1773   0.000000  0.000000  0.000000  0.000000  0.000000\n",
       " 1774   0.000000  0.000000  0.000000  0.000000  0.000000\n",
       " 1775   0.000000  0.000000  0.000000  0.000000  0.000000\n",
       " 1776   0.000000  0.000000  0.000000  0.000000  0.000000\n",
       " 1777   0.000000  0.000000  0.000000  0.000000  0.000000\n",
       " 1778   0.000000  0.000000  0.000000  0.000000  0.000000\n",
       " 1779   0.000000  0.000000  0.000000  0.000000  0.000000\n",
       " ...         ...       ...       ...       ...       ...\n",
       " 4171   2.981699  2.914440  3.746967  2.497998  3.050111\n",
       " 4172   2.981724  2.914465  3.746994  2.498023  3.050138\n",
       " 4173   2.981750  2.914489  3.747020  2.498048  3.050165\n",
       " 4174   2.981775  2.914514  3.747047  2.498073  3.050193\n",
       " 4175   2.981800  2.914538  3.747073  2.498097  3.050220\n",
       " 4176   2.981826  2.914562  3.747099  2.498122  3.050247\n",
       " 4177   2.981851  2.914587  3.747126  2.498147  3.050274\n",
       " 4178   2.981876  2.914611  3.747152  2.498172  3.050301\n",
       " 4179   2.981902  2.914635  3.747178  2.498196  3.050329\n",
       " 4180   2.981927  2.914660  3.747204  2.498221  3.050356\n",
       " 4181   2.981952  2.914684  3.747231  2.498245  3.050383\n",
       " 4182   2.981977  2.914708  3.747257  2.498270  3.050410\n",
       " 4183   2.982002  2.914732  3.747283  2.498294  3.050437\n",
       " 4184   2.982027  2.914756  3.747309  2.498319  3.050464\n",
       " 4185   2.982052  2.914780  3.747335  2.498343  3.050491\n",
       " 4186   2.982077  2.914804  3.747361  2.498368  3.050517\n",
       " 4187   2.982102  2.914828  3.747386  2.498392  3.050544\n",
       " 4188   2.982127  2.914852  3.747412  2.498416  3.050571\n",
       " 4189   2.982152  2.914876  3.747438  2.498441  3.050598\n",
       " 4190   2.982177  2.914900  3.747464  2.498465  3.050625\n",
       " 4191   2.982202  2.914924  3.747490  2.498489  3.050651\n",
       " 4192   2.982227  2.914948  3.747516  2.498513  3.050678\n",
       " 4193   2.982251  2.914972  3.747541  2.498537  3.050704\n",
       " 4194   2.982276  2.914996  3.747567  2.498561  3.050731\n",
       " 4195   2.982301  2.915019  3.747593  2.498585  3.050758\n",
       " 4196   2.982325  2.915043  3.747618  2.498610  3.050784\n",
       " 4197   2.982350  2.915067  3.747644  2.498633  3.050810\n",
       " 4198   2.982374  2.915090  3.747669  2.498658  3.050837\n",
       " 4199   2.982399  2.915114  3.747695  2.498681  3.050863\n",
       " 4200   2.982424  2.915137  3.747720  2.498705  3.050890\n",
       " \n",
       " [2451 rows x 5 columns],\n",
       " 'TOTAL_INCLVOLCANIC_RF':        GLOBAL  NH-OCEAN   NH-LAND  SH-OCEAN   SH-LAND\n",
       " YEARS                                                \n",
       " 1750     0.00  0.000000  0.000000   0.00000  0.000000\n",
       " 1751     0.00  0.000000  0.000000   0.00000  0.000000\n",
       " 1752     0.00  0.000000  0.000000   0.00000  0.000000\n",
       " 1753     0.00  0.000000  0.000000   0.00000  0.000000\n",
       " 1754     0.00  0.000000  0.000000   0.00000  0.000000\n",
       " 1755     0.00  0.000000  0.000000   0.00000  0.000000\n",
       " 1756     0.00  0.000000  0.000000   0.00000  0.000000\n",
       " 1757     0.00  0.000000  0.000000   0.00000  0.000000\n",
       " 1758     0.00  0.000000  0.000000   0.00000  0.000000\n",
       " 1759     0.00  0.000000  0.000000   0.00000  0.000000\n",
       " 1760     0.00  0.000000  0.000000   0.00000  0.000000\n",
       " 1761     0.00  0.000000  0.000000   0.00000  0.000000\n",
       " 1762     0.00  0.000000  0.000000   0.00000  0.000000\n",
       " 1763     0.00  0.000000  0.000000   0.00000  0.000000\n",
       " 1764     0.00  0.000000  0.000000   0.00000  0.000000\n",
       " 1765     0.00  0.000000  0.000000   0.00000  0.000000\n",
       " 1766     0.00  0.000000  0.000000   0.00000  0.000000\n",
       " 1767     0.00  0.000000  0.000000   0.00000  0.000000\n",
       " 1768     0.00  0.000000  0.000000   0.00000  0.000000\n",
       " 1769     0.00  0.000000  0.000000   0.00000  0.000000\n",
       " 1770     0.00  0.000000  0.000000   0.00000  0.000000\n",
       " 1771     0.00  0.000000  0.000000   0.00000  0.000000\n",
       " 1772     0.00  0.000000  0.000000   0.00000  0.000000\n",
       " 1773     0.00  0.000000  0.000000   0.00000  0.000000\n",
       " 1774     0.00  0.000000  0.000000   0.00000  0.000000\n",
       " 1775     0.00  0.000000  0.000000   0.00000  0.000000\n",
       " 1776     0.00  0.000000  0.000000   0.00000  0.000000\n",
       " 1777     0.00  0.000000  0.000000   0.00000  0.000000\n",
       " 1778     0.00  0.000000  0.000000   0.00000  0.000000\n",
       " 1779     0.00  0.000000  0.000000   0.00000  0.000000\n",
       " ...       ...       ...       ...       ...       ...\n",
       " 4171     3.71  3.736156  3.634194   3.80094  3.533743\n",
       " 4172     3.71  3.736156  3.634194   3.80094  3.533743\n",
       " 4173     3.71  3.736156  3.634194   3.80094  3.533743\n",
       " 4174     3.71  3.736156  3.634194   3.80094  3.533743\n",
       " 4175     3.71  3.736156  3.634194   3.80094  3.533743\n",
       " 4176     3.71  3.736156  3.634194   3.80094  3.533743\n",
       " 4177     3.71  3.736156  3.634194   3.80094  3.533743\n",
       " 4178     3.71  3.736156  3.634194   3.80094  3.533743\n",
       " 4179     3.71  3.736156  3.634194   3.80094  3.533743\n",
       " 4180     3.71  3.736156  3.634194   3.80094  3.533743\n",
       " 4181     3.71  3.736156  3.634194   3.80094  3.533743\n",
       " 4182     3.71  3.736156  3.634194   3.80094  3.533743\n",
       " 4183     3.71  3.736156  3.634194   3.80094  3.533743\n",
       " 4184     3.71  3.736156  3.634194   3.80094  3.533743\n",
       " 4185     3.71  3.736156  3.634194   3.80094  3.533743\n",
       " 4186     3.71  3.736156  3.634194   3.80094  3.533743\n",
       " 4187     3.71  3.736156  3.634194   3.80094  3.533743\n",
       " 4188     3.71  3.736156  3.634194   3.80094  3.533743\n",
       " 4189     3.71  3.736156  3.634194   3.80094  3.533743\n",
       " 4190     3.71  3.736156  3.634194   3.80094  3.533743\n",
       " 4191     3.71  3.736156  3.634194   3.80094  3.533743\n",
       " 4192     3.71  3.736156  3.634194   3.80094  3.533743\n",
       " 4193     3.71  3.736156  3.634194   3.80094  3.533743\n",
       " 4194     3.71  3.736156  3.634194   3.80094  3.533743\n",
       " 4195     3.71  3.736156  3.634194   3.80094  3.533743\n",
       " 4196     3.71  3.736156  3.634194   3.80094  3.533743\n",
       " 4197     3.71  3.736156  3.634194   3.80094  3.533743\n",
       " 4198     3.71  3.736156  3.634194   3.80094  3.533743\n",
       " 4199     3.71  3.736156  3.634194   3.80094  3.533743\n",
       " 4200     3.71  3.736156  3.634194   3.80094  3.533743\n",
       " \n",
       " [2451 rows x 5 columns]}"
      ]
     },
     "execution_count": 90,
     "metadata": {},
     "output_type": "execute_result"
    }
   ],
   "source": [
    "results"
   ]
  },
  {
   "cell_type": "code",
   "execution_count": null,
   "metadata": {},
   "outputs": [],
   "source": []
  }
 ],
 "metadata": {
  "kernelspec": {
   "display_name": "Python 3",
   "language": "python",
   "name": "python3"
  },
  "language_info": {
   "codemirror_mode": {
    "name": "ipython",
    "version": 3
   },
   "file_extension": ".py",
   "mimetype": "text/x-python",
   "name": "python",
   "nbconvert_exporter": "python",
   "pygments_lexer": "ipython3",
   "version": "3.6.5"
  }
 },
 "nbformat": 4,
 "nbformat_minor": 2
}
